{
 "cells": [
  {
   "cell_type": "markdown",
   "metadata": {},
   "source": [
    "# Identify Flares/Stars with coinciding SPT and TESS observations\n",
    "This notebook searches TESS for the flaring stars in the SPT flare catalog (Tandoi et.al. 24) and identifies sectors of coinciding observation.\n",
    "The identifying data of the stars with coinciding observations are saved to `spt_tess_candidates.pkl`."
   ]
  },
  {
   "cell_type": "code",
   "execution_count": 3,
   "metadata": {},
   "outputs": [],
   "source": [
    "import numpy as np\n",
    "import matplotlib.pyplot as plt\n",
    "import matplotlib.gridspec as gridspec\n",
    "%matplotlib inline\n",
    "import pandas as pd\n",
    "\n",
    "from astropy.time import Time\n",
    "from astropy.coordinates import SkyCoord\n",
    "import astropy.units as u\n",
    "from astropy.io import fits\n",
    "\n",
    "from scipy.linalg import lstsq\n",
    "from scipy.optimize import curve_fit\n",
    "\n",
    "import lightkurve as lk\n",
    "import tessreduce as tr\n",
    "\n",
    "import pickle"
   ]
  },
  {
   "cell_type": "markdown",
   "metadata": {},
   "source": [
    "<span style=\"color:red; font-weight:bold;\"> See these tools for relevant tess sector identification:</span> \n",
    "- TESS-point: https://github.com/tessgi/tess-point\n",
    "  - This would greatly restrict sectors we search for each star, so worth exploring for very large catalogs\n",
    "- TESS-point Web Tool: https://heasarc.gsfc.nasa.gov/wsgi-scripts/TESS/TESS-point_Web_Tool/TESS-point_Web_Tool/wtv_v2.0.py/"
   ]
  },
  {
   "cell_type": "markdown",
   "metadata": {},
   "source": [
    "First we retrieve the flare locations and times for SPT and TESS orbit details\n",
    "\n",
    "The SPT \"Flare Star Catalog\" is retrieved from https://pole.uchicago.edu/public/data/tandoi24/#Overview.\n",
    "\n",
    "TESS sector orbit times are retrieved from https://tess.mit.edu/observations/."
   ]
  },
  {
   "cell_type": "code",
   "execution_count": 11,
   "metadata": {},
   "outputs": [
    {
     "name": "stdout",
     "output_type": "stream",
     "text": [
      "Index(['peak_obsid', 'DR3_source_id', 'source_ra', 'source_dec', 'start_time',\n",
      "       'end_time', 'mjd', 'sectors'],\n",
      "      dtype='object')\n",
      "Index(['Sector', 'Sector Start', 'Sector End'], dtype='object')\n"
     ]
    }
   ],
   "source": [
    "spt_flares_df = pd.read_csv('../data/SPT/2023_june2025_winter_stars_for_TESS.csv')\n",
    "spt_flares_df = spt_flares_df.replace()\n",
    "spt_flares_df['mjd'] = spt_flares_df['start_time'].apply(lambda x: Time(x, scale= 'utc', format='iso').utc.mjd)\n",
    "spt_flares_df.sort_values(by= 'mjd')\n",
    "spt_flares_df['sectors'] = [[] for _ in range(len(spt_flares_df))]\n",
    "print(spt_flares_df.columns)\n",
    "spt_flares_df = spt_flares_df.rename(columns={'source_ra': 'ra', 'source_dec': 'dec'})\n",
    "\n",
    "TESS_sectors_df = pd.read_csv(\"..\\data\\TESS\\TESS_orbit_times.csv\")\n",
    "# Times are stored by orbit, so first merge by sector\n",
    "TESS_sectors_df = TESS_sectors_df.groupby(\"Sector\").agg({\n",
    "    \"Start of Orbit\": \"min\",\n",
    "    \"End of Orbit\": \"max\"\n",
    "}).reset_index()\n",
    "TESS_sectors_df.columns = [\"Sector\", \"Sector Start\", \"Sector End\"]\n",
    "\n",
    "# Formatting to MJD for comparison\n",
    "TESS_sectors_df = TESS_sectors_df.dropna(subset=['Sector Start'])\n",
    "TESS_sectors_df = TESS_sectors_df.dropna(subset=['Sector Start'])\n",
    "TESS_sectors_df['Sector'] = TESS_sectors_df['Sector'].apply(lambda x: int(x))\n",
    "TESS_sectors_df['Sector Start'] = TESS_sectors_df['Sector Start'].apply(lambda x: Time(x, format= 'iso').utc.mjd)\n",
    "TESS_sectors_df['Sector End'] = TESS_sectors_df['Sector End'].apply(lambda x: Time(x, format= 'iso').utc.mjd)\n",
    "print(TESS_sectors_df.columns)"
   ]
  },
  {
   "cell_type": "markdown",
   "metadata": {},
   "source": [
    "Using this data we find the range of TESS sectors over which SPT observed the flares. This is not precise and simply cuts out sectors before the first flare and after the last flare in the catalog."
   ]
  },
  {
   "cell_type": "code",
   "execution_count": 12,
   "metadata": {},
   "outputs": [
    {
     "name": "stdout",
     "output_type": "stream",
     "text": [
      "['2023-03-31 09:24:59.000' '2025-06-04 11:07:06.000']\n",
      "{63, 64, 65, 66, 67, 68, 69, 70, 71, 72, 73, 74, 75, 76, 77, 78, 79, 80, 81, 82, 83, 84, 85, 86, 87, 88, 89, 90, 91, 92, 93}\n"
     ]
    }
   ],
   "source": [
    "spt_t_bounds = (spt_flares_df.iloc[0]['mjd'], spt_flares_df.iloc[-1]['mjd'])\n",
    "t_bounds = Time(spt_t_bounds, format= 'mjd')\n",
    "print(t_bounds.iso)\n",
    "\n",
    "# Look for TESS Sectors between first flare start and last flare end\n",
    "valid_sectors = TESS_sectors_df.loc[(TESS_sectors_df['Sector Start'] <= t_bounds[1].value) & (TESS_sectors_df['Sector End'] >= t_bounds[0].value)]\n",
    "valid_sectors = set(valid_sectors['Sector'].apply(lambda x: int(x)))\n",
    "print(valid_sectors)"
   ]
  },
  {
   "cell_type": "markdown",
   "metadata": {},
   "source": [
    "For each flare in spt_flare_catalog first grab FFIs for all sectors that contain its skycoordinates using tesscut. Lightkurve search is generally fast and I suspect may require less local runtime than checking if flare falls withing explicit time range of each sector.\n",
    "\n",
    "Then, for the sectors where TESS is looking at the star and check the sector times to identify the one with the flare."
   ]
  },
  {
   "cell_type": "code",
   "execution_count": 13,
   "metadata": {},
   "outputs": [
    {
     "name": "stdout",
     "output_type": "stream",
     "text": [
      "0/38: Sector 67 - no overlap in time\n",
      "1/38: Sector 68 - no overlap in time\n",
      "2/38: Sector 67 - no overlap in time\n",
      "3/38: Sector 68 - no overlap in time\n",
      "4/38: Sector 69 - no overlap in time\n",
      "5/38: Sector 68 - no overlap in time\n",
      "6/38: Sector 69 - no overlap in time\n",
      "7/38: Sector 67 - no overlap in time\n",
      "8/38: Sector 69 - no overlap in time\n",
      "9/38: Sector 69 - no overlap in time\n"
     ]
    },
    {
     "name": "stderr",
     "output_type": "stream",
     "text": [
      "No data found for target \"<SkyCoord (ICRS): (ra, dec) in deg\n",
      "    (39.95198541, -42.88485681)>\".\n"
     ]
    },
    {
     "name": "stdout",
     "output_type": "stream",
     "text": [
      "10/38: no nearby targets\n",
      "11/38: Sector 69 - no overlap in time\n",
      "12/38: Match found for Sector 67\n",
      "13/38: Sector 68 - no overlap in time\n",
      "13/38: Match found for Sector 67\n",
      "14/38: Match found for Sector 67\n",
      "15/38: Sector 67 - no overlap in time\n",
      "16/38: Sector 67 - no overlap in time\n",
      "17/38: Sector 68 - no overlap in time\n",
      "17/38: Match found for Sector 69\n"
     ]
    },
    {
     "name": "stderr",
     "output_type": "stream",
     "text": [
      "No data found for target \"<SkyCoord (ICRS): (ra, dec) in deg\n",
      "    (48.10760539, -44.42078289)>\".\n"
     ]
    },
    {
     "name": "stdout",
     "output_type": "stream",
     "text": [
      "18/38: no nearby targets\n",
      "19/38: Sector 68 - no overlap in time\n",
      "20/38: Sector 67 - no overlap in time\n",
      "21/38: Sector 68 - no overlap in time\n",
      "21/38: Sector 69 - no overlap in time\n",
      "22/38: Sector 68 - no overlap in time\n",
      "22/38: Sector 69 - no overlap in time\n",
      "23/38: Sector 69 - no overlap in time\n",
      "24/38: Sector 67 - no overlap in time\n",
      "25/38: Sector 68 - no overlap in time\n",
      "25/38: Sector 67 - no overlap in time\n",
      "26/38: Sector 69 - no overlap in time\n",
      "27/38: Sector 68 - no overlap in time\n",
      "27/38: Sector 69 - no overlap in time\n",
      "28/38: Sector 67 - no overlap in time\n",
      "29/38: Sector 67 - no overlap in time\n",
      "30/38: Sector 67 - no overlap in time\n",
      "31/38: Sector 69 - no overlap in time\n",
      "32/38: Sector 69 - no overlap in time\n",
      "33/38: Sector 69 - no overlap in time\n",
      "34/38: Sector 68 - no overlap in time\n",
      "34/38: Sector 67 - no overlap in time\n"
     ]
    },
    {
     "name": "stderr",
     "output_type": "stream",
     "text": [
      "No data found for target \"<SkyCoord (ICRS): (ra, dec) in deg\n",
      "    (42.7979808, -47.88549198)>\".\n"
     ]
    },
    {
     "name": "stdout",
     "output_type": "stream",
     "text": [
      "35/38: no nearby targets\n",
      "36/38: Sector 69 - no overlap in time\n",
      "37/38: Sector 68 - no overlap in time\n",
      "37/38: Sector 69 - no overlap in time\n"
     ]
    }
   ],
   "source": [
    "for i, flare in spt_flares_df.iterrows():\n",
    "    ra = flare['ra']\n",
    "    dec = flare['dec']\n",
    "    flare_obs_start = Time(flare['mjd'],  format='mjd', scale='utc')\n",
    "    c = SkyCoord(ra, dec, unit= 'deg')\n",
    "\n",
    "    # Search for any sectors where TESS is looking at the star\n",
    "    possible_matches = lk.search_tesscut(c, [sector for sector in valid_sectors])\n",
    "    if len(possible_matches) >= 1:\n",
    "        # Check time range for each sector\n",
    "        for data_prod in possible_matches:\n",
    "            sector = int(data_prod.mission[0][11:])\n",
    "            sector_time = TESS_sectors_df[TESS_sectors_df['Sector'] == sector]\n",
    "            sector_start = sector_time['Sector Start'].iloc[0]\n",
    "            sector_end = sector_time['Sector End'].iloc[0]\n",
    "            if sector_start < flare_obs_start.value < sector_end:\n",
    "                print(f'{i}/{spt_flares_df.shape[0]}: Match found for Sector {sector}')\n",
    "                flare['sectors'] = flare['sectors'].append(sector)\n",
    "            else:\n",
    "                print(f'{i}/{spt_flares_df.shape[0]}: Sector {sector} - no overlap in time')\n",
    "    else:\n",
    "        print(f'{i}/{spt_flares_df.shape[0]}: no nearby targets')\n"
   ]
  },
  {
   "cell_type": "code",
   "execution_count": 14,
   "metadata": {},
   "outputs": [
    {
     "data": {
      "text/html": [
       "<div>\n",
       "<style scoped>\n",
       "    .dataframe tbody tr th:only-of-type {\n",
       "        vertical-align: middle;\n",
       "    }\n",
       "\n",
       "    .dataframe tbody tr th {\n",
       "        vertical-align: top;\n",
       "    }\n",
       "\n",
       "    .dataframe thead th {\n",
       "        text-align: right;\n",
       "    }\n",
       "</style>\n",
       "<table border=\"1\" class=\"dataframe\">\n",
       "  <thead>\n",
       "    <tr style=\"text-align: right;\">\n",
       "      <th></th>\n",
       "      <th>index</th>\n",
       "      <th>peak_obsid</th>\n",
       "      <th>DR3_source_id</th>\n",
       "      <th>ra</th>\n",
       "      <th>dec</th>\n",
       "      <th>start_time</th>\n",
       "      <th>end_time</th>\n",
       "      <th>mjd</th>\n",
       "      <th>sectors</th>\n",
       "    </tr>\n",
       "  </thead>\n",
       "  <tbody>\n",
       "    <tr>\n",
       "      <th>0</th>\n",
       "      <td>12</td>\n",
       "      <td>205545046</td>\n",
       "      <td>6463748969563201408</td>\n",
       "      <td>319.964017</td>\n",
       "      <td>-53.449742</td>\n",
       "      <td>2023-07-07 23:50:47</td>\n",
       "      <td>2023-07-08 01:58:35</td>\n",
       "      <td>60132.993600</td>\n",
       "      <td>[67]</td>\n",
       "    </tr>\n",
       "    <tr>\n",
       "      <th>1</th>\n",
       "      <td>13</td>\n",
       "      <td>206191850</td>\n",
       "      <td>6388014157668558080</td>\n",
       "      <td>352.241030</td>\n",
       "      <td>-68.043088</td>\n",
       "      <td>2023-07-15 11:30:51</td>\n",
       "      <td>2023-07-15 13:38:39</td>\n",
       "      <td>60140.479757</td>\n",
       "      <td>[67]</td>\n",
       "    </tr>\n",
       "    <tr>\n",
       "      <th>2</th>\n",
       "      <td>14</td>\n",
       "      <td>206333946</td>\n",
       "      <td>6463546350186454144</td>\n",
       "      <td>320.183645</td>\n",
       "      <td>-54.633106</td>\n",
       "      <td>2023-07-17 02:59:07</td>\n",
       "      <td>2023-07-17 05:06:55</td>\n",
       "      <td>60142.124387</td>\n",
       "      <td>[67]</td>\n",
       "    </tr>\n",
       "    <tr>\n",
       "      <th>3</th>\n",
       "      <td>17</td>\n",
       "      <td>210122640</td>\n",
       "      <td>4904142818493218304</td>\n",
       "      <td>13.575856</td>\n",
       "      <td>-59.422393</td>\n",
       "      <td>2023-08-29 23:24:01</td>\n",
       "      <td>2023-08-30 01:31:49</td>\n",
       "      <td>60185.975012</td>\n",
       "      <td>[69]</td>\n",
       "    </tr>\n",
       "  </tbody>\n",
       "</table>\n",
       "</div>"
      ],
      "text/plain": [
       "   index  peak_obsid        DR3_source_id          ra        dec  \\\n",
       "0     12   205545046  6463748969563201408  319.964017 -53.449742   \n",
       "1     13   206191850  6388014157668558080  352.241030 -68.043088   \n",
       "2     14   206333946  6463546350186454144  320.183645 -54.633106   \n",
       "3     17   210122640  4904142818493218304   13.575856 -59.422393   \n",
       "\n",
       "            start_time             end_time           mjd sectors  \n",
       "0  2023-07-07 23:50:47  2023-07-08 01:58:35  60132.993600    [67]  \n",
       "1  2023-07-15 11:30:51  2023-07-15 13:38:39  60140.479757    [67]  \n",
       "2  2023-07-17 02:59:07  2023-07-17 05:06:55  60142.124387    [67]  \n",
       "3  2023-08-29 23:24:01  2023-08-30 01:31:49  60185.975012    [69]  "
      ]
     },
     "execution_count": 14,
     "metadata": {},
     "output_type": "execute_result"
    }
   ],
   "source": [
    "spt_tess_candidates = spt_flares_df[spt_flares_df['sectors'].apply(lambda x: len(x) > 0)].reset_index()\n",
    "spt_tess_candidates"
   ]
  },
  {
   "cell_type": "markdown",
   "metadata": {},
   "source": [
    "Print out flare skycoord in hmsdms to search in SINBAD and find common identifier for flares; I chose TIC."
   ]
  },
  {
   "cell_type": "code",
   "execution_count": 15,
   "metadata": {},
   "outputs": [
    {
     "name": "stdout",
     "output_type": "stream",
     "text": [
      "0 21h19m51.36413543s -53d26m59.0716511s\n",
      "1 23h28m57.84720912s -68d02m35.11602777s\n",
      "2 21h20m44.07488332s -54d37m59.1800009s\n",
      "3 00h54m18.20546204s -59d25m20.61364507s\n"
     ]
    }
   ],
   "source": [
    "for i, flare in spt_tess_candidates.iterrows():\n",
    "    ra = flare['ra']\n",
    "    dec = flare['dec']\n",
    "    c = SkyCoord(ra, dec, frame= 'icrs', unit= 'deg')\n",
    "    print(i, c.to_string('hmsdms'))"
   ]
  },
  {
   "cell_type": "markdown",
   "metadata": {},
   "source": [
    "Add TIC to dataframe"
   ]
  },
  {
   "cell_type": "code",
   "execution_count": 18,
   "metadata": {},
   "outputs": [
    {
     "data": {
      "text/html": [
       "<div>\n",
       "<style scoped>\n",
       "    .dataframe tbody tr th:only-of-type {\n",
       "        vertical-align: middle;\n",
       "    }\n",
       "\n",
       "    .dataframe tbody tr th {\n",
       "        vertical-align: top;\n",
       "    }\n",
       "\n",
       "    .dataframe thead th {\n",
       "        text-align: right;\n",
       "    }\n",
       "</style>\n",
       "<table border=\"1\" class=\"dataframe\">\n",
       "  <thead>\n",
       "    <tr style=\"text-align: right;\">\n",
       "      <th></th>\n",
       "      <th>peak_obsid</th>\n",
       "      <th>DR3_source_id</th>\n",
       "      <th>TIC</th>\n",
       "      <th>sectors</th>\n",
       "    </tr>\n",
       "  </thead>\n",
       "  <tbody>\n",
       "    <tr>\n",
       "      <th>0</th>\n",
       "      <td>205545046</td>\n",
       "      <td>6463748969563201408</td>\n",
       "      <td>TIC79394645</td>\n",
       "      <td>[67]</td>\n",
       "    </tr>\n",
       "    <tr>\n",
       "      <th>1</th>\n",
       "      <td>206191850</td>\n",
       "      <td>6388014157668558080</td>\n",
       "      <td>TIC229807000</td>\n",
       "      <td>[67]</td>\n",
       "    </tr>\n",
       "    <tr>\n",
       "      <th>2</th>\n",
       "      <td>206333946</td>\n",
       "      <td>6463546350186454144</td>\n",
       "      <td>TIC219317273</td>\n",
       "      <td>[67]</td>\n",
       "    </tr>\n",
       "    <tr>\n",
       "      <th>3</th>\n",
       "      <td>210122640</td>\n",
       "      <td>4904142818493218304</td>\n",
       "      <td>None</td>\n",
       "      <td>[69]</td>\n",
       "    </tr>\n",
       "  </tbody>\n",
       "</table>\n",
       "</div>"
      ],
      "text/plain": [
       "   peak_obsid        DR3_source_id           TIC sectors\n",
       "0   205545046  6463748969563201408   TIC79394645    [67]\n",
       "1   206191850  6388014157668558080  TIC229807000    [67]\n",
       "2   206333946  6463546350186454144  TIC219317273    [67]\n",
       "3   210122640  4904142818493218304          None    [69]"
      ]
     },
     "execution_count": 18,
     "metadata": {},
     "output_type": "execute_result"
    }
   ],
   "source": [
    "spt_tess_candidates['TIC'] = spt_tess_candidates['peak_obsid']\n",
    "\n",
    "spt_tess_candidates.at[0,'TIC'] = \"TIC79394645\" #79394646\n",
    "spt_tess_candidates.at[1,'TIC'] = \"TIC229807000\"\n",
    "spt_tess_candidates.at[2,'TIC'] = \"TIC219317273\"\n",
    "spt_tess_candidates.at[3,'TIC'] = None\n",
    "\n",
    "\n",
    "spt_tess_candidates[['peak_obsid', 'DR3_source_id', 'TIC', 'sectors']]"
   ]
  },
  {
   "cell_type": "markdown",
   "metadata": {},
   "source": [
    "Save dataframe"
   ]
  },
  {
   "cell_type": "code",
   "execution_count": 19,
   "metadata": {},
   "outputs": [],
   "source": [
    "spt_tess_candidates.to_pickle('..\\data\\spt_tess_candidates_23_jun25.pkl')"
   ]
  },
  {
   "cell_type": "code",
   "execution_count": null,
   "metadata": {},
   "outputs": [],
   "source": []
  }
 ],
 "metadata": {
  "kernelspec": {
   "display_name": "SPT_Flares",
   "language": "python",
   "name": "python3"
  },
  "language_info": {
   "codemirror_mode": {
    "name": "ipython",
    "version": 3
   },
   "file_extension": ".py",
   "mimetype": "text/x-python",
   "name": "python",
   "nbconvert_exporter": "python",
   "pygments_lexer": "ipython3",
   "version": "3.9.19"
  }
 },
 "nbformat": 4,
 "nbformat_minor": 2
}
