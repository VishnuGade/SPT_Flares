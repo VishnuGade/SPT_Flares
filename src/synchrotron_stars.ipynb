{
 "cells": [
  {
   "cell_type": "code",
   "execution_count": 1,
   "id": "36f8aa2a",
   "metadata": {},
   "outputs": [
    {
     "name": "stderr",
     "output_type": "stream",
     "text": [
      "c:\\Users\\vishn\\miniconda3\\envs\\SPT_Flares\\lib\\site-packages\\lightkurve\\config\\__init__.py:119: UserWarning: The default Lightkurve cache directory, used by download(), etc., has been moved to C:\\Users\\vishn\\.lightkurve\\cache. Please move all the files in the legacy directory C:\\Users\\vishn\\.lightkurve-cache to the new location and remove the legacy directory. Refer to https://docs.lightkurve.org/reference/config.html#default-cache-directory-migration for more information.\n",
      "  warnings.warn(\n"
     ]
    }
   ],
   "source": [
    "import numpy as np\n",
    "import matplotlib.pyplot as plt\n",
    "import matplotlib.gridspec as gridspec\n",
    "%matplotlib inline\n",
    "import pandas as pd\n",
    "\n",
    "from astropy.time import Time\n",
    "from astropy.coordinates import SkyCoord\n",
    "import astropy.units as u\n",
    "from astropy.io import fits\n",
    "from astropy import constants as const\n",
    "\n",
    "from scipy.optimize import curve_fit\n",
    "from scipy.integrate import quad\n",
    "\n",
    "import lightkurve as lk\n",
    "\n",
    "import pickle"
   ]
  },
  {
   "cell_type": "code",
   "execution_count": 2,
   "id": "0c2c0a25",
   "metadata": {},
   "outputs": [
    {
     "name": "stdout",
     "output_type": "stream",
     "text": [
      "Index(['index', 'spt_id', 'mjd', 'ts', 'ra', 'dec', '95_flux', '95_flux_err',\n",
      "       '150_flux', '150_flux_err', '220_flux', '220_flux_err',\n",
      "       'spectral_index_95_150', 'spectral_index_95_150_err',\n",
      "       'spectral_index_150_220', 'spectral_index_150_220_err', 'dr3_source_id',\n",
      "       'p-value', 'source_ra', 'source_dec', 'phot_g_mean_mag',\n",
      "       'phot_bp_mean_mag', 'phot_rp_mean_mag', 'parallax', 'parallax_err',\n",
      "       'binary', '2rxs_id', '2rxs_ref', '2rxs_flux', 'sectors', 'TIC'],\n",
      "      dtype='object')\n"
     ]
    },
    {
     "data": {
      "text/html": [
       "<div>\n",
       "<style scoped>\n",
       "    .dataframe tbody tr th:only-of-type {\n",
       "        vertical-align: middle;\n",
       "    }\n",
       "\n",
       "    .dataframe tbody tr th {\n",
       "        vertical-align: top;\n",
       "    }\n",
       "\n",
       "    .dataframe thead th {\n",
       "        text-align: right;\n",
       "    }\n",
       "</style>\n",
       "<table border=\"1\" class=\"dataframe\">\n",
       "  <thead>\n",
       "    <tr style=\"text-align: right;\">\n",
       "      <th></th>\n",
       "      <th>index</th>\n",
       "      <th>spt_id</th>\n",
       "      <th>mjd</th>\n",
       "      <th>ts</th>\n",
       "      <th>ra</th>\n",
       "      <th>dec</th>\n",
       "      <th>95_flux</th>\n",
       "      <th>95_flux_err</th>\n",
       "      <th>150_flux</th>\n",
       "      <th>150_flux_err</th>\n",
       "      <th>...</th>\n",
       "      <th>phot_bp_mean_mag</th>\n",
       "      <th>phot_rp_mean_mag</th>\n",
       "      <th>parallax</th>\n",
       "      <th>parallax_err</th>\n",
       "      <th>binary</th>\n",
       "      <th>2rxs_id</th>\n",
       "      <th>2rxs_ref</th>\n",
       "      <th>2rxs_flux</th>\n",
       "      <th>sectors</th>\n",
       "      <th>TIC</th>\n",
       "    </tr>\n",
       "  </thead>\n",
       "  <tbody>\n",
       "    <tr>\n",
       "      <th>0</th>\n",
       "      <td>42</td>\n",
       "      <td>SPT-SV J232857.8-680230</td>\n",
       "      <td>59067.63</td>\n",
       "      <td>69.829680</td>\n",
       "      <td>352.241137</td>\n",
       "      <td>-68.041907</td>\n",
       "      <td>33.132387</td>\n",
       "      <td>6.050987</td>\n",
       "      <td>44.396645</td>\n",
       "      <td>6.479653</td>\n",
       "      <td>...</td>\n",
       "      <td>13.298294</td>\n",
       "      <td>10.835975</td>\n",
       "      <td>21.814973</td>\n",
       "      <td>0.016096</td>\n",
       "      <td>True</td>\n",
       "      <td>2RXS J232857.7-680225</td>\n",
       "      <td>Freund</td>\n",
       "      <td>0.0</td>\n",
       "      <td>[28]</td>\n",
       "      <td>TIC229807000</td>\n",
       "    </tr>\n",
       "    <tr>\n",
       "      <th>1</th>\n",
       "      <td>43</td>\n",
       "      <td>SPT-SV J220610.2-460354</td>\n",
       "      <td>59068.28</td>\n",
       "      <td>65.720511</td>\n",
       "      <td>331.542835</td>\n",
       "      <td>-46.065046</td>\n",
       "      <td>47.818806</td>\n",
       "      <td>8.045753</td>\n",
       "      <td>50.842904</td>\n",
       "      <td>8.377214</td>\n",
       "      <td>...</td>\n",
       "      <td>11.394999</td>\n",
       "      <td>10.820612</td>\n",
       "      <td>2.686802</td>\n",
       "      <td>0.032307</td>\n",
       "      <td>False</td>\n",
       "      <td>NaN</td>\n",
       "      <td>NaN</td>\n",
       "      <td>NaN</td>\n",
       "      <td>[28]</td>\n",
       "      <td>TIC279255411</td>\n",
       "    </tr>\n",
       "    <tr>\n",
       "      <th>2</th>\n",
       "      <td>46</td>\n",
       "      <td>SPT-SV J025532.4-570257</td>\n",
       "      <td>59110.27</td>\n",
       "      <td>1233.665708</td>\n",
       "      <td>43.885140</td>\n",
       "      <td>-57.049441</td>\n",
       "      <td>162.083004</td>\n",
       "      <td>7.148120</td>\n",
       "      <td>206.963060</td>\n",
       "      <td>7.665012</td>\n",
       "      <td>...</td>\n",
       "      <td>16.325182</td>\n",
       "      <td>13.060138</td>\n",
       "      <td>21.889704</td>\n",
       "      <td>0.021013</td>\n",
       "      <td>False</td>\n",
       "      <td>NaN</td>\n",
       "      <td>NaN</td>\n",
       "      <td>NaN</td>\n",
       "      <td>[29]</td>\n",
       "      <td>TIC207138379</td>\n",
       "    </tr>\n",
       "    <tr>\n",
       "      <th>3</th>\n",
       "      <td>49</td>\n",
       "      <td>SPT-SV J014432.2-460435</td>\n",
       "      <td>59131.78</td>\n",
       "      <td>48.975169</td>\n",
       "      <td>26.134435</td>\n",
       "      <td>-46.076393</td>\n",
       "      <td>45.598152</td>\n",
       "      <td>8.294850</td>\n",
       "      <td>36.632626</td>\n",
       "      <td>8.695313</td>\n",
       "      <td>...</td>\n",
       "      <td>18.198709</td>\n",
       "      <td>14.208293</td>\n",
       "      <td>25.949235</td>\n",
       "      <td>0.045132</td>\n",
       "      <td>False</td>\n",
       "      <td>NaN</td>\n",
       "      <td>NaN</td>\n",
       "      <td>NaN</td>\n",
       "      <td>[30]</td>\n",
       "      <td>TIC401838575</td>\n",
       "    </tr>\n",
       "  </tbody>\n",
       "</table>\n",
       "<p>4 rows × 31 columns</p>\n",
       "</div>"
      ],
      "text/plain": [
       "   index                   spt_id       mjd           ts          ra  \\\n",
       "0     42  SPT-SV J232857.8-680230  59067.63    69.829680  352.241137   \n",
       "1     43  SPT-SV J220610.2-460354  59068.28    65.720511  331.542835   \n",
       "2     46  SPT-SV J025532.4-570257  59110.27  1233.665708   43.885140   \n",
       "3     49  SPT-SV J014432.2-460435  59131.78    48.975169   26.134435   \n",
       "\n",
       "         dec     95_flux  95_flux_err    150_flux  150_flux_err  ...  \\\n",
       "0 -68.041907   33.132387     6.050987   44.396645      6.479653  ...   \n",
       "1 -46.065046   47.818806     8.045753   50.842904      8.377214  ...   \n",
       "2 -57.049441  162.083004     7.148120  206.963060      7.665012  ...   \n",
       "3 -46.076393   45.598152     8.294850   36.632626      8.695313  ...   \n",
       "\n",
       "   phot_bp_mean_mag  phot_rp_mean_mag   parallax  parallax_err  binary  \\\n",
       "0         13.298294         10.835975  21.814973      0.016096    True   \n",
       "1         11.394999         10.820612   2.686802      0.032307   False   \n",
       "2         16.325182         13.060138  21.889704      0.021013   False   \n",
       "3         18.198709         14.208293  25.949235      0.045132   False   \n",
       "\n",
       "                 2rxs_id  2rxs_ref  2rxs_flux  sectors           TIC  \n",
       "0  2RXS J232857.7-680225    Freund        0.0     [28]  TIC229807000  \n",
       "1                    NaN       NaN        NaN     [28]  TIC279255411  \n",
       "2                    NaN       NaN        NaN     [29]  TIC207138379  \n",
       "3                    NaN       NaN        NaN     [30]  TIC401838575  \n",
       "\n",
       "[4 rows x 31 columns]"
      ]
     },
     "execution_count": 2,
     "metadata": {},
     "output_type": "execute_result"
    }
   ],
   "source": [
    "coinciding_flares_df = pd.read_pickle('..\\data\\spt_tess_candidates_tandoi24.pkl')\n",
    "print(coinciding_flares_df.columns)\n",
    "names = {'TIC207138379': 'Pike (M4.3)', 'TIC229807000': 'Andy(s) (Binary | M2.5Ve)', 'TIC279255411': 'Matt (Teff:6691 K)', 'TIC401838575': 'Liz (M5.5e)'}\n",
    "coinciding_flares_df"
   ]
  },
  {
   "cell_type": "code",
   "execution_count": 3,
   "id": "07c093ef",
   "metadata": {},
   "outputs": [
    {
     "data": {
      "text/plain": [
       "0    6388014157668558080\n",
       "1    6567445491726233216\n",
       "2    4727920241619206912\n",
       "3    4954453580066220800\n",
       "Name: dr3_source_id, dtype: int64"
      ]
     },
     "execution_count": 3,
     "metadata": {},
     "output_type": "execute_result"
    }
   ],
   "source": [
    "coinciding_flares_df['dr3_source_id']"
   ]
  },
  {
   "cell_type": "code",
   "execution_count": 9,
   "id": "1b5707d3",
   "metadata": {},
   "outputs": [
    {
     "data": {
      "text/plain": [
       "index                                              49\n",
       "spt_id                        SPT-SV J014432.2-460435\n",
       "mjd                                          59131.78\n",
       "ts                                          48.975169\n",
       "ra                                          26.134435\n",
       "dec                                        -46.076393\n",
       "95_flux                                     45.598152\n",
       "95_flux_err                                   8.29485\n",
       "150_flux                                    36.632626\n",
       "150_flux_err                                 8.695313\n",
       "220_flux                                    44.396346\n",
       "220_flux_err                                30.140886\n",
       "spectral_index_95_150                       -0.479308\n",
       "spectral_index_95_150_err                    0.654735\n",
       "spectral_index_150_220                       0.501885\n",
       "spectral_index_150_220_err                   1.877854\n",
       "dr3_source_id                     4954453580066220800\n",
       "p-value                                      0.020155\n",
       "source_ra                                   26.133623\n",
       "source_dec                                 -46.075694\n",
       "phot_g_mean_mag                             15.635771\n",
       "phot_bp_mean_mag                            18.198709\n",
       "phot_rp_mean_mag                            14.208293\n",
       "parallax                                    25.949235\n",
       "parallax_err                                 0.045132\n",
       "binary                                          False\n",
       "2rxs_id                                           NaN\n",
       "2rxs_ref                                          NaN\n",
       "2rxs_flux                                         NaN\n",
       "sectors                                          [30]\n",
       "TIC                                      TIC401838575\n",
       "Name: 3, dtype: object"
      ]
     },
     "execution_count": 9,
     "metadata": {},
     "output_type": "execute_result"
    }
   ],
   "source": [
    "flare_star = coinciding_flares_df.iloc[3]\n",
    "flare_star"
   ]
  },
  {
   "cell_type": "code",
   "execution_count": 10,
   "id": "c4df6a67",
   "metadata": {},
   "outputs": [
    {
     "name": "stdout",
     "output_type": "stream",
     "text": [
      "Liz (M5.5e)\n"
     ]
    }
   ],
   "source": [
    "SPT_SS = pd.read_csv('../data/SPT/flux_calibrated_catalog_scan_start_times_26feb25.csv')\n",
    "spt_id = flare_star['spt_id']\n",
    "gaia = flare_star['dr3_source_id']\n",
    "TIC = flare_star['TIC']\n",
    "print(names[TIC])"
   ]
  },
  {
   "cell_type": "markdown",
   "id": "693971ee",
   "metadata": {},
   "source": [
    "# Full Synchrotron Energy Estimate"
   ]
  },
  {
   "cell_type": "code",
   "execution_count": 11,
   "id": "dba79dee",
   "metadata": {},
   "outputs": [],
   "source": [
    "# Grab SPT Single Scan Data\n",
    "ss_flux_str = SPT_SS[SPT_SS['DR3_source_id']== gaia]['ss_flux'].values[0]\n",
    "ss_flux_str_dict = eval(ss_flux_str.replace('array', 'np.array'))\n",
    "ss_flux_90 = ss_flux_str_dict['90GHz']\n",
    "ss_flux_150 = ss_flux_str_dict['150GHz']"
   ]
  },
  {
   "cell_type": "code",
   "execution_count": 12,
   "id": "ea825e3d",
   "metadata": {},
   "outputs": [],
   "source": [
    "SPT_bands_GHz = {\n",
    "    'BandCenter90': (101.2 * u.GHz, 1.2 * u.GHz),\n",
    "    'BandWidth90': (22.7 * u.GHz, 0.6 * u.GHz),\n",
    "    'BandCenter150': (153.8 * u.GHz, 1.3 * u.GHz),\n",
    "    'BandWidth150': (37.7 * u.GHz, 1.2 * u.GHz),\n",
    "}\n",
    "\n",
    "d = (flare_star['parallax']*u.mas).to(u.kpc, equivalencies= u.parallax())"
   ]
  },
  {
   "cell_type": "code",
   "execution_count": 13,
   "id": "7787095a",
   "metadata": {},
   "outputs": [
    {
     "name": "stdout",
     "output_type": "stream",
     "text": [
      "B_90: 5.587085e+01 G | B_150: 8.717108e+01 G\n",
      "R_90: 7.021985e+09 cm | R_150: 5.127750e+09 cm\n",
      "E_90: 5.470585e+32 erg | E_150: 5.185717e+32 erg\n",
      "T_B_90: 2.697811e+10 K | T_B_150: 2.695580e+10 K\n"
     ]
    }
   ],
   "source": [
    "B_90 = (0.25 * d.to(u.kpc)**(-4/17) * (np.max(ss_flux_90) * u.mJy)**(-2/17) * SPT_bands_GHz['BandCenter90'][0]**(19/17))\n",
    "B_150 = (0.25 * d.to(u.kpc)**(-4/17) * (np.max(ss_flux_150) * u.mJy)**(-2/17) * SPT_bands_GHz['BandCenter150'][0]**(19/17))\n",
    "print(f'B_90: {B_90.value:3e} G | B_150: {B_150.value:3e} G')\n",
    "\n",
    "R_90 = (1.68e12 * d.to(u.kpc)**(16/17) * (np.max(ss_flux_90) * u.mJy)**(8/17) * SPT_bands_GHz['BandCenter90'][0]**(-33/34))\n",
    "R_150 = (1.68e12 * d.to(u.kpc)**(16/17) * (np.max(ss_flux_150) * u.mJy)**(8/17) * SPT_bands_GHz['BandCenter150'][0]**(-33/34))\n",
    "print(f'R_90: {R_90.value:3e} cm | R_150: {R_150.value:3e} cm')\n",
    "\n",
    "E_90 = (1.5e35 * d.to(u.kpc)**(40/17) * (np.max(ss_flux_90) * u.mJy)**(20/17) * SPT_bands_GHz['BandCenter90'][0]**(-23/34))\n",
    "E_150 = (1.5e35 * d.to(u.kpc)**(40/17) * (np.max(ss_flux_150) * u.mJy)**(20/17) * SPT_bands_GHz['BandCenter150'][0]**(-23/34))\n",
    "print(f'E_90: {E_90.value:3e} erg | E_150: {E_150.value:3e} erg')\n",
    "\n",
    "T_B_90 = (3.5e10 * d.to(u.kpc)**(2/17) * (np.max(ss_flux_90) * u.mJy)**(1/17) * SPT_bands_GHz['BandCenter90'][0]**(-1/34))\n",
    "T_B_150 = (3.5e10 * d.to(u.kpc)**(2/17) * (np.max(ss_flux_150) * u.mJy)**(1/17) * SPT_bands_GHz['BandCenter150'][0]**(-1/34))\n",
    "print(f'T_B_90: {T_B_90.value:3e} K | T_B_150: {T_B_150.value:3e} K')"
   ]
  },
  {
   "cell_type": "markdown",
   "id": "d892b420",
   "metadata": {},
   "source": [
    "# Full Thermal Energy Estimate"
   ]
  },
  {
   "cell_type": "code",
   "execution_count": 14,
   "id": "743bb6ea",
   "metadata": {},
   "outputs": [],
   "source": [
    "fit_energy = 9.19E+32 * u.erg\n",
    "fit_energy_err = 0 * u.erg\n",
    "fit_duration= (59.83 * u.hour).to(u.s)\n",
    "\n",
    "\n",
    "r_MDwarf = const.R_sun.to(u.cm) * 0.75\n",
    "r_test = R_150.value * u.cm\n",
    "\n",
    "fit_avg_lum = fit_energy / fit_duration\n",
    "fit_avg_lum_err = fit_energy_err / fit_duration"
   ]
  },
  {
   "cell_type": "markdown",
   "id": "7901aa57",
   "metadata": {},
   "source": [
    "## Fit Temperature"
   ]
  },
  {
   "cell_type": "code",
   "execution_count": 15,
   "id": "151587ba",
   "metadata": {},
   "outputs": [],
   "source": [
    "from astropy.modeling.models import BlackBody"
   ]
  },
  {
   "cell_type": "code",
   "execution_count": 16,
   "id": "983732c7",
   "metadata": {},
   "outputs": [],
   "source": [
    "def BB_Lum(T, nus, radius):\n",
    "    # return ((2 * const.h * nu**3) / const.c**2 / (np.exp((const.h * nu / (const.k_B * T)).decompose()) - 1))\n",
    "    bb_func = BlackBody(T)\n",
    "    bb = bb_func(nus)\n",
    "\n",
    "    spec_rad = np.trapz(x= nus, y= bb).to(u.erg / (u.cm**2 * u.s * u.sr))\n",
    "    return (spec_rad * (np.pi * radius**2) * (np.pi * u.sr)).to(u.erg / u.s)\n",
    "\n",
    "def TESS_BB(T, radius):\n",
    "    nus = np.linspace((const.c / (1000*u.nm)), (const.c / (600*u.nm)), 1000).to(u.Hz)\n",
    "    return BB_Lum(T, nus, radius)"
   ]
  },
  {
   "cell_type": "code",
   "execution_count": 19,
   "id": "127fc18d",
   "metadata": {},
   "outputs": [
    {
     "data": {
      "image/png": "[encoded data removed]",
      "text/plain": [
       "<Figure size 640x480 with 1 Axes>"
      ]
     },
     "metadata": {},
     "output_type": "display_data"
    },
    {
     "name": "stdout",
     "output_type": "stream",
     "text": [
      "Fit Energy: 9.190e+32 erg ± 0.000e+00 erg\n",
      "\tFit Luminosity: 4.267e+27 erg / s ± 0.000e+00 erg / s\n",
      "Best T: 1970.67 K + 0.00 K / - 0.00 K K | Peak Frequency: 1.158e+02 THz\n",
      "\tTESS_BB Luminosity: 4.267e+27 erg / s + 0.000e+00 erg / s / - 0.000e+00 erg / s\n",
      "\tTESS_BB Energy: 9.190e+32 erg + 0.000e+00 erg / - 0.000e+00 erg\n",
      "\tBolometric Energy: 1.521e+34 erg + 0.000e+00 erg / - 0.000e+00 erg\n"
     ]
    }
   ],
   "source": [
    "from scipy.optimize import minimize_scalar\n",
    "\n",
    "TESS_lum_diff = lambda T, val: np.abs(TESS_BB(T * u.K, r_test) - val)\n",
    "mid = minimize_scalar(TESS_lum_diff, bounds=(1000, 100000), method='bounded', args= (fit_avg_lum,))\n",
    "upper_bound = minimize_scalar(TESS_lum_diff, bounds=(1000, 100000), method='bounded', args= (fit_avg_lum + fit_avg_lum_err,))\n",
    "lower_bound = minimize_scalar(TESS_lum_diff, bounds=(1000, 100000), method='bounded', args= (fit_avg_lum - fit_avg_lum_err,))\n",
    "\n",
    "best_T = mid.x * u.K\n",
    "best_lum = TESS_BB(best_T, r_test)\n",
    "\n",
    "upper_T = upper_bound.x * u.K\n",
    "upper_lum = TESS_BB(upper_T, r_test)\n",
    "del_T_up = upper_T - best_T\n",
    "del_lum_up = upper_lum - best_lum\n",
    "\n",
    "lower_T = lower_bound.x * u.K\n",
    "lower_lum = TESS_BB(lower_T, r_test)\n",
    "del_T_down = best_T - lower_T\n",
    "del_lum_down = best_lum - lower_lum\n",
    "\n",
    "\n",
    "ν_peak = (2.821 * const.k_B * best_T / const.h).to(u.Hz)\n",
    "nu_min = (ν_peak / 50).to(u.Hz)\n",
    "nu_max = (ν_peak * 5).to(u.Hz)\n",
    "\n",
    "full_bb_nus = np.logspace(np.log10(nu_min.value), np.log10(nu_max.value), 1000) * u.Hz\n",
    "bb = BlackBody(best_T)\n",
    "full_bb = bb(full_bb_nus)\n",
    "plt.plot(full_bb_nus, full_bb)\n",
    "plt.axvline((const.c / (1000*u.nm)).to(u.Hz).value, c= 'r')\n",
    "plt.axvline((const.c / (600*u.nm)).to(u.Hz).value, c= 'r')\n",
    "plt.xlabel(r\"$\\nu$, [{0:latex_inline}]\".format(full_bb_nus.unit))\n",
    "plt.ylabel(r\"$I_{\\nu}$, \" + \"[{0:latex_inline}]\".format(full_bb.unit))\n",
    "plt.title(\"Planck function in frequency\")\n",
    "plt.show()\n",
    "\n",
    "full_lum_best = BB_Lum(best_T, full_bb_nus, r_test)\n",
    "full_lum_upper = BB_Lum(upper_T, full_bb_nus, r_test)\n",
    "full_lum_lower = BB_Lum(lower_T, full_bb_nus, r_test)\n",
    "del_full_lum_up = full_lum_upper - full_lum_best\n",
    "del_full_lum_down = full_lum_best - full_lum_lower\n",
    "\n",
    "print(f\"Fit Energy: {fit_energy:.3e} ± {fit_energy_err:.3e}\")\n",
    "print(f\"\\tFit Luminosity: {fit_avg_lum:.3e} ± {fit_avg_lum_err:.3e}\")\n",
    "print(f\"Best T: {best_T:.2f} + {del_T_up:.2f} / - {del_T_down:.2f} K | Peak Frequency: {ν_peak.to(u.THz):.3e}\")\n",
    "print(f\"\\tTESS_BB Luminosity: {best_lum:.3e} + {del_lum_up:.3e} / - {del_lum_down:.3e}\")\n",
    "print(f\"\\tTESS_BB Energy: {best_lum * fit_duration:.3e} + {del_lum_up * fit_duration:.3e} / - {del_lum_down * fit_duration:.3e}\")\n",
    "print(f\"\\tBolometric Energy: {full_lum_best * fit_duration:.3e} + {del_full_lum_up * fit_duration:.3e} / - {del_full_lum_down * fit_duration:.3e}\")"
   ]
  },
  {
   "cell_type": "markdown",
   "id": "0287a05f",
   "metadata": {},
   "source": [
    "## Assume 10000 K BB"
   ]
  },
  {
   "cell_type": "code",
   "execution_count": 20,
   "id": "5db459cd",
   "metadata": {},
   "outputs": [
    {
     "name": "stdout",
     "output_type": "stream",
     "text": [
      "5.878e+02 THz\n"
     ]
    },
    {
     "data": {
      "image/png": "[encoded data removed]",
      "text/plain": [
       "<Figure size 640x480 with 1 Axes>"
      ]
     },
     "metadata": {},
     "output_type": "display_data"
    },
    {
     "name": "stdout",
     "output_type": "stream",
     "text": [
      "BB Lum 1.0084633541113559e+37 erg\n",
      "TESS Band Lum 1.7793260042751643e+36 erg\n"
     ]
    }
   ],
   "source": [
    "T_test = 10000 * u.K\n",
    "\n",
    "ν_peak = (2.821 * const.k_B * T_test / const.h).to(u.Hz)\n",
    "nu_min = (ν_peak / 50).to(u.Hz)\n",
    "nu_max = (ν_peak * 5).to(u.Hz)\n",
    "print(f'{ν_peak.to(u.THz):.3e}')\n",
    "\n",
    "full_bb_nus = np.logspace(np.log10(nu_min.value), np.log10(nu_max.value), 1000) * u.Hz\n",
    "bb = BlackBody(T_test)\n",
    "full_bb = bb(full_bb_nus)\n",
    "plt.plot(full_bb_nus, full_bb)\n",
    "plt.axvline((const.c / (1000*u.nm)).to(u.Hz).value, c= 'r')\n",
    "plt.axvline((const.c / (600*u.nm)).to(u.Hz).value, c= 'r')\n",
    "plt.xlabel(r\"$\\nu$, [{0:latex_inline}]\".format(full_bb_nus.unit))\n",
    "plt.ylabel(r\"$I_{\\nu}$, \" + \"[{0:latex_inline}]\".format(full_bb.unit))\n",
    "plt.title(\"Planck function in frequency\")\n",
    "plt.show()\n",
    "\n",
    "print('BB Lum', BB_Lum(T_test, full_bb_nus, r_test) * fit_duration)\n",
    "print('TESS Band Lum', TESS_BB(T_test, r_test) * fit_duration)"
   ]
  },
  {
   "cell_type": "markdown",
   "id": "3202d6a0",
   "metadata": {},
   "source": [
    "## Scale with GAIA Bol Luminosities\n",
    "Idea Source: [https://www.aanda.org/articles/aa/abs/2022/05/aa43086-22/aa43086-22.html](https://www.aanda.org/articles/aa/abs/2022/05/aa43086-22/aa43086-22.html)\n",
    "\n",
    "Only Matt and Andy(s) have the required values on the gaia catalog website\n",
    "\n",
    "<span style=\"color:red;\">Assumes quiescent and flare have same spectral shape</span>\n",
    "\n",
    "Links to tool for calculationg Bolometric Correction (BC_g): https://gitlab.oca.eu/ordenovic/gaiadr3_bcg/ | https://www.cosmos.esa.int/web/gaia/dr3-bolometric-correction-tool\n"
   ]
  },
  {
   "cell_type": "code",
   "execution_count": null,
   "id": "abfa6f36",
   "metadata": {},
   "outputs": [],
   "source": [
    "from gdr3bcg.bcg import BolometryTable\n",
    "\n",
    "table=BolometryTable()\n",
    "\n",
    "dat = {\n",
    "    'Matt': [6691.4, 4.2709, -0.3285, 0], # Alpha enhancement unknown atm and I have used 0\n",
    "    'Andy(s)': [3235.6, 3.9101, -0.6766, 0], # Alpha enhancement unknown atm and I have used 0\n",
    "}\n",
    "\n",
    "BC_g = table.computeBc(dat['Matt'])\n",
    "BC_g"
   ]
  },
  {
   "cell_type": "code",
   "execution_count": null,
   "id": "cd20d79a",
   "metadata": {},
   "outputs": [],
   "source": [
    "m_g = 11.180600 # Matt: 11.180600 | Andy: 11.975413\n",
    "A_g = 0.0868 # Matt: 0.0868 | Andy: 0.1119\n",
    "print(d.to(u.pc))\n",
    "M_g = m_g + 5*np.log10((flare_star['parallax']*u.mas).to(u.arcsec).value) + 5 - A_g \n",
    "\n",
    "M_bol = M_g + BC_g\n",
    "\n",
    "L_bol = const.L_sun * 10**(0.4 * (4.74 - M_bol))\n",
    "L_bol.to(u.erg/u.s)"
   ]
  },
  {
   "cell_type": "code",
   "execution_count": null,
   "id": "20024e87",
   "metadata": {},
   "outputs": [],
   "source": [
    "TESS_quies_cnt = 6413.652 # Matt: 24761.474 | Andy: 6413.652\n",
    "TESS_qies = (TESS_quies_cnt * 10**(-2/5*(20.44-16.4)) * u.mJy * (2e14 * u.Hz) * (4*np.pi*d.to(u.cm)**2)).to(u.erg/u.s) \n",
    "print(TESS_qies)\n",
    "fit_energy * L_bol.to(u.erg/u.s) / TESS_qies"
   ]
  },
  {
   "cell_type": "markdown",
   "id": "d8f51982",
   "metadata": {},
   "source": [
    "## BB 10000 K Shibayama 2013\n",
    "https://ui.adsabs.harvard.edu/abs/2013ApJS..209....5S/abstract\n"
   ]
  },
  {
   "cell_type": "markdown",
   "id": "f8533927",
   "metadata": {},
   "source": []
  }
 ],
 "metadata": {
  "kernelspec": {
   "display_name": "SPT_Flares",
   "language": "python",
   "name": "python3"
  },
  "language_info": {
   "codemirror_mode": {
    "name": "ipython",
    "version": 3
   },
   "file_extension": ".py",
   "mimetype": "text/x-python",
   "name": "python",
   "nbconvert_exporter": "python",
   "pygments_lexer": "ipython3",
   "version": "3.9.19"
  }
 },
 "nbformat": 4,
 "nbformat_minor": 5
}
