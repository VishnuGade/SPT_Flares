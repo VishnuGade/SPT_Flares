{
 "cells": [
  {
   "cell_type": "markdown",
   "metadata": {},
   "source": [
    "# Identify Flares/Stars with coinciding SPT and TESS observations\n",
    "This notebook searches TESS for the flaring stars in the SPT flare catalog (Tandoi et.al. 24) and identifies sectors of coinciding observation.\n",
    "The identifying data of the stars with coinciding observations are saved to `spt_tess_candidates.pkl`."
   ]
  },
  {
   "cell_type": "code",
   "execution_count": 1,
   "metadata": {},
   "outputs": [
    {
     "name": "stderr",
     "output_type": "stream",
     "text": [
      "c:\\Users\\vishn\\miniconda3\\envs\\SPT_Flares\\lib\\site-packages\\lightkurve\\config\\__init__.py:119: UserWarning: The default Lightkurve cache directory, used by download(), etc., has been moved to C:\\Users\\vishn\\.lightkurve\\cache. Please move all the files in the legacy directory C:\\Users\\vishn\\.lightkurve-cache to the new location and remove the legacy directory. Refer to https://docs.lightkurve.org/reference/config.html#default-cache-directory-migration for more information.\n",
      "  warnings.warn(\n"
     ]
    }
   ],
   "source": [
    "import numpy as np\n",
    "import matplotlib.pyplot as plt\n",
    "import matplotlib.gridspec as gridspec\n",
    "%matplotlib inline\n",
    "import pandas as pd\n",
    "\n",
    "from astropy.time import Time\n",
    "from astropy.coordinates import SkyCoord\n",
    "import astropy.units as u\n",
    "from astropy.io import fits\n",
    "\n",
    "from scipy.linalg import lstsq\n",
    "from scipy.optimize import curve_fit\n",
    "\n",
    "import lightkurve as lk\n",
    "import tessreduce as tr\n",
    "\n",
    "import pickle"
   ]
  },
  {
   "cell_type": "markdown",
   "metadata": {},
   "source": [
    "<span style=\"color:red; font-weight:bold;\"> See these tools for relevant tess sector identification:</span> \n",
    "- TESS-point: https://github.com/tessgi/tess-point\n",
    "  - This would greatly restrict sectors we search for each star, so worth exploring for very large catalogs\n",
    "- TESS-point Web Tool: https://heasarc.gsfc.nasa.gov/wsgi-scripts/TESS/TESS-point_Web_Tool/TESS-point_Web_Tool/wtv_v2.0.py/"
   ]
  },
  {
   "cell_type": "markdown",
   "metadata": {},
   "source": [
    "First we retrieve the flare locations and times for SPT and TESS orbit details\n",
    "\n",
    "The SPT \"Flare Star Catalog\" is retrieved from https://pole.uchicago.edu/public/data/tandoi24/#Overview.\n",
    "\n",
    "TESS sector orbit times are retrieved from https://tess.mit.edu/observations/."
   ]
  },
  {
   "cell_type": "code",
   "execution_count": 2,
   "metadata": {},
   "outputs": [
    {
     "name": "stdout",
     "output_type": "stream",
     "text": [
      "Index(['ra', 'dec', 'obsid', 'mjd', 'sectors'], dtype='object')\n",
      "Index(['Sector', 'Sector Start', 'Sector End'], dtype='object')\n"
     ]
    }
   ],
   "source": [
    "spt_flares_df = pd.read_csv('..\\data\\SPT\\online_pipeline_flagged_stars_12jun2025.csv')\n",
    "spt_flares_df.sort_values(by= 'mjd')\n",
    "spt_flares_df['sectors'] = [[] for _ in range(len(spt_flares_df))]\n",
    "print(spt_flares_df.columns)\n",
    "# print(spt_flares_df[['ra', 'dec']].head())\n",
    "\n",
    "\n",
    "TESS_sectors_df = pd.read_csv(\"..\\data\\TESS\\TESS_orbit_times.csv\")\n",
    "# Times are stored by orbit, so first merge by sector\n",
    "TESS_sectors_df = TESS_sectors_df.groupby(\"Sector\").agg({\n",
    "    \"Start of Orbit\": \"min\",\n",
    "    \"End of Orbit\": \"max\"\n",
    "}).reset_index()\n",
    "TESS_sectors_df.columns = [\"Sector\", \"Sector Start\", \"Sector End\"]\n",
    "\n",
    "# Formatting to MJD for comparison\n",
    "TESS_sectors_df = TESS_sectors_df.dropna(subset=['Sector Start'])\n",
    "TESS_sectors_df = TESS_sectors_df.dropna(subset=['Sector Start'])\n",
    "TESS_sectors_df['Sector'] = TESS_sectors_df['Sector'].apply(lambda x: int(x))\n",
    "TESS_sectors_df['Sector Start'] = TESS_sectors_df['Sector Start'].apply(lambda x: Time(x, format= 'iso').utc.mjd)\n",
    "TESS_sectors_df['Sector End'] = TESS_sectors_df['Sector End'].apply(lambda x: Time(x, format= 'iso').utc.mjd)\n",
    "print(TESS_sectors_df.columns)"
   ]
  },
  {
   "cell_type": "markdown",
   "metadata": {},
   "source": [
    "Using this data we find the range of TESS sectors over which SPT observed the flares. This is not precise and simply cuts out sectors before the first flare and after the last flare in the catalog."
   ]
  },
  {
   "cell_type": "code",
   "execution_count": 3,
   "metadata": {},
   "outputs": [
    {
     "name": "stdout",
     "output_type": "stream",
     "text": [
      "['2021-05-04 15:34:23.000' '2025-06-08 13:30:24.000']\n",
      "{38, 39, 40, 41, 42, 43, 44, 45, 46, 47, 48, 49, 50, 51, 52, 53, 54, 55, 56, 57, 58, 59, 60, 61, 62, 63, 64, 65, 66, 67, 68, 69, 70, 71, 72, 73, 74, 75, 76, 77, 78, 79, 80, 81, 82, 83, 84, 85, 86, 87, 88, 89, 90, 91, 92, 93}\n"
     ]
    }
   ],
   "source": [
    "spt_t_bounds = (spt_flares_df.iloc[0]['mjd'], spt_flares_df.iloc[-1]['mjd'])\n",
    "t_bounds = Time(spt_t_bounds, format= 'mjd')\n",
    "print(t_bounds.iso)\n",
    "\n",
    "# Look for TESS Sectors between first flare start and last flare end\n",
    "valid_sectors = TESS_sectors_df.loc[(TESS_sectors_df['Sector Start'] <= t_bounds[1].value) & (TESS_sectors_df['Sector End'] >= t_bounds[0].value)]\n",
    "valid_sectors = set(valid_sectors['Sector'].apply(lambda x: int(x)))\n",
    "print(valid_sectors)"
   ]
  },
  {
   "cell_type": "markdown",
   "metadata": {},
   "source": [
    "For each flare in spt_flare_catalog first grab FFIs for all sectors that contain its skycoordinates using tesscut. Lightkurve search is generally fast and I suspect may require less local runtime than checking if flare falls withing explicit time range of each sector.\n",
    "\n",
    "Then, for the sectors where TESS is looking at the star and check the sector times to identify the one with the flare."
   ]
  },
  {
   "cell_type": "code",
   "execution_count": 4,
   "metadata": {},
   "outputs": [
    {
     "name": "stdout",
     "output_type": "stream",
     "text": [
      "0/39: Sector 68 - no overlap in time\n",
      "0/39: Sector 69 - no overlap in time\n",
      "1/39: Sector 67 - no overlap in time\n",
      "2/39: Sector 69 - no overlap in time\n",
      "3/39: Sector 68 - no overlap in time\n",
      "3/39: Sector 67 - no overlap in time\n",
      "4/39: Sector 68 - no overlap in time\n",
      "5/39: Sector 68 - no overlap in time\n",
      "5/39: Sector 69 - no overlap in time\n",
      "6/39: Sector 69 - no overlap in time\n"
     ]
    },
    {
     "name": "stderr",
     "output_type": "stream",
     "text": [
      "No data found for target \"<SkyCoord (ICRS): (ra, dec) in deg\n",
      "    (88.36147, -43.55822)>\".\n"
     ]
    },
    {
     "name": "stdout",
     "output_type": "stream",
     "text": [
      "7/39: no nearby targets\n"
     ]
    },
    {
     "name": "stderr",
     "output_type": "stream",
     "text": [
      "No data found for target \"<SkyCoord (ICRS): (ra, dec) in deg\n",
      "    (73.707, -29.5655)>\".\n"
     ]
    },
    {
     "name": "stdout",
     "output_type": "stream",
     "text": [
      "8/39: no nearby targets\n",
      "9/39: Sector 61 - no overlap in time\n",
      "9/39: Sector 87 - no overlap in time\n",
      "9/39: Sector 88 - no overlap in time\n",
      "10/39: Sector 67 - no overlap in time\n",
      "11/39: Sector 69 - no overlap in time\n",
      "12/39: Sector 68 - no overlap in time\n",
      "12/39: Sector 69 - no overlap in time\n",
      "13/39: Sector 69 - no overlap in time\n",
      "14/39: Sector 68 - no overlap in time\n",
      "15/39: Sector 87 - no overlap in time\n",
      "16/39: Sector 68 - no overlap in time\n",
      "16/39: Sector 67 - no overlap in time\n",
      "16/39: Sector 69 - no overlap in time\n",
      "17/39: Sector 68 - no overlap in time\n",
      "18/39: Sector 67 - no overlap in time\n",
      "19/39: Sector 69 - no overlap in time\n",
      "20/39: Sector 69 - no overlap in time\n",
      "21/39: Sector 67 - no overlap in time\n"
     ]
    },
    {
     "name": "stderr",
     "output_type": "stream",
     "text": [
      "No data found for target \"<SkyCoord (ICRS): (ra, dec) in deg\n",
      "    (39.95296, -42.88499)>\".\n"
     ]
    },
    {
     "name": "stdout",
     "output_type": "stream",
     "text": [
      "22/39: no nearby targets\n",
      "23/39: Sector 69 - no overlap in time\n"
     ]
    },
    {
     "name": "stderr",
     "output_type": "stream",
     "text": [
      "No data found for target \"<SkyCoord (ICRS): (ra, dec) in deg\n",
      "    (48.11014, -44.423)>\".\n"
     ]
    },
    {
     "name": "stdout",
     "output_type": "stream",
     "text": [
      "24/39: no nearby targets\n",
      "25/39: Sector 68 - no overlap in time\n",
      "26/39: Sector 68 - no overlap in time\n",
      "26/39: Sector 69 - no overlap in time\n",
      "27/39: Sector 69 - no overlap in time\n",
      "28/39: Sector 67 - no overlap in time\n",
      "29/39: Sector 69 - no overlap in time\n",
      "30/39: Sector 61 - no overlap in time\n",
      "30/39: Sector 87 - no overlap in time\n",
      "30/39: Sector 88 - no overlap in time\n",
      "31/39: Sector 65 - no overlap in time\n",
      "31/39: Sector 69 - no overlap in time\n",
      "31/39: Sector 62 - no overlap in time\n",
      "31/39: Match found for Sector 89\n",
      "32/39: Sector 67 - no overlap in time\n",
      "33/39: Sector 67 - no overlap in time\n",
      "34/39: Sector 69 - no overlap in time\n",
      "35/39: Sector 68 - no overlap in time\n",
      "35/39: Sector 67 - no overlap in time\n"
     ]
    },
    {
     "name": "stderr",
     "output_type": "stream",
     "text": [
      "No data found for target \"<SkyCoord (ICRS): (ra, dec) in deg\n",
      "    (42.79707, -47.88438)>\".\n"
     ]
    },
    {
     "name": "stdout",
     "output_type": "stream",
     "text": [
      "36/39: no nearby targets\n",
      "37/39: Sector 69 - no overlap in time\n",
      "38/39: Sector 68 - no overlap in time\n"
     ]
    }
   ],
   "source": [
    "for i, flare in spt_flares_df.iterrows():\n",
    "    ra = flare['ra']\n",
    "    dec = flare['dec']\n",
    "    flare_obs_start = Time(flare['mjd'],  format='mjd', scale='utc')\n",
    "    c = SkyCoord(ra, dec, unit= 'deg')\n",
    "\n",
    "    # Search for any sectors where TESS is looking at the star\n",
    "    possible_matches = lk.search_tesscut(c, [sector for sector in valid_sectors])\n",
    "    if len(possible_matches) >= 1:\n",
    "        # Check time range for each sector\n",
    "        for data_prod in possible_matches:\n",
    "            sector = int(data_prod.mission[0][11:])\n",
    "            sector_time = TESS_sectors_df[TESS_sectors_df['Sector'] == sector]\n",
    "            sector_start = sector_time['Sector Start'].iloc[0]\n",
    "            sector_end = sector_time['Sector End'].iloc[0]\n",
    "            if sector_start < flare_obs_start.value < sector_end:\n",
    "                print(f'{i}/{spt_flares_df.shape[0]}: Match found for Sector {sector}')\n",
    "                flare['sectors'] = flare['sectors'].append(sector)\n",
    "            else:\n",
    "                print(f'{i}/{spt_flares_df.shape[0]}: Sector {sector} - no overlap in time')\n",
    "    else:\n",
    "        print(f'{i}/{spt_flares_df.shape[0]}: no nearby targets')\n"
   ]
  },
  {
   "cell_type": "code",
   "execution_count": 5,
   "metadata": {},
   "outputs": [
    {
     "data": {
      "text/html": [
       "<div>\n",
       "<style scoped>\n",
       "    .dataframe tbody tr th:only-of-type {\n",
       "        vertical-align: middle;\n",
       "    }\n",
       "\n",
       "    .dataframe tbody tr th {\n",
       "        vertical-align: top;\n",
       "    }\n",
       "\n",
       "    .dataframe thead th {\n",
       "        text-align: right;\n",
       "    }\n",
       "</style>\n",
       "<table border=\"1\" class=\"dataframe\">\n",
       "  <thead>\n",
       "    <tr style=\"text-align: right;\">\n",
       "      <th></th>\n",
       "      <th>index</th>\n",
       "      <th>ra</th>\n",
       "      <th>dec</th>\n",
       "      <th>obsid</th>\n",
       "      <th>mjd</th>\n",
       "      <th>sectors</th>\n",
       "    </tr>\n",
       "  </thead>\n",
       "  <tbody>\n",
       "    <tr>\n",
       "      <th>0</th>\n",
       "      <td>31</td>\n",
       "      <td>59.92104</td>\n",
       "      <td>-58.67446</td>\n",
       "      <td>256943755</td>\n",
       "      <td>60727.886053</td>\n",
       "      <td>[89]</td>\n",
       "    </tr>\n",
       "  </tbody>\n",
       "</table>\n",
       "</div>"
      ],
      "text/plain": [
       "   index        ra       dec      obsid           mjd sectors\n",
       "0     31  59.92104 -58.67446  256943755  60727.886053    [89]"
      ]
     },
     "execution_count": 5,
     "metadata": {},
     "output_type": "execute_result"
    }
   ],
   "source": [
    "spt_tess_candidates = spt_flares_df[spt_flares_df['sectors'].apply(lambda x: len(x) > 0)].reset_index()\n",
    "spt_tess_candidates"
   ]
  },
  {
   "cell_type": "markdown",
   "metadata": {},
   "source": [
    "Print out flare skycoord in hmsdms to search in SINBAD and find common identifier for flares; I chose TIC."
   ]
  },
  {
   "cell_type": "code",
   "execution_count": 6,
   "metadata": {},
   "outputs": [
    {
     "name": "stdout",
     "output_type": "stream",
     "text": [
      "0 03h59m41.0496s -58d40m28.056s\n"
     ]
    }
   ],
   "source": [
    "\n",
    "for i, flare in spt_tess_candidates.iterrows():\n",
    "    ra = flare['ra']\n",
    "    dec = flare['dec']\n",
    "    c = SkyCoord(ra, dec, frame= 'icrs', unit= 'deg')\n",
    "    print(i, c.to_string('hmsdms'))"
   ]
  },
  {
   "cell_type": "markdown",
   "metadata": {},
   "source": [
    "Add TIC to dataframe"
   ]
  },
  {
   "cell_type": "code",
   "execution_count": 9,
   "metadata": {},
   "outputs": [
    {
     "data": {
      "text/html": [
       "<div>\n",
       "<style scoped>\n",
       "    .dataframe tbody tr th:only-of-type {\n",
       "        vertical-align: middle;\n",
       "    }\n",
       "\n",
       "    .dataframe tbody tr th {\n",
       "        vertical-align: top;\n",
       "    }\n",
       "\n",
       "    .dataframe thead th {\n",
       "        text-align: right;\n",
       "    }\n",
       "</style>\n",
       "<table border=\"1\" class=\"dataframe\">\n",
       "  <thead>\n",
       "    <tr style=\"text-align: right;\">\n",
       "      <th></th>\n",
       "      <th>index</th>\n",
       "      <th>ra</th>\n",
       "      <th>dec</th>\n",
       "      <th>obsid</th>\n",
       "      <th>mjd</th>\n",
       "      <th>sectors</th>\n",
       "      <th>TIC</th>\n",
       "      <th>dr3_source_id</th>\n",
       "    </tr>\n",
       "  </thead>\n",
       "  <tbody>\n",
       "    <tr>\n",
       "      <th>0</th>\n",
       "      <td>31</td>\n",
       "      <td>59.92104</td>\n",
       "      <td>-58.67446</td>\n",
       "      <td>256943755</td>\n",
       "      <td>60727.886053</td>\n",
       "      <td>[89]</td>\n",
       "      <td>TIC198006444</td>\n",
       "      <td>4682624554442312576</td>\n",
       "    </tr>\n",
       "  </tbody>\n",
       "</table>\n",
       "</div>"
      ],
      "text/plain": [
       "   index        ra       dec      obsid           mjd sectors           TIC  \\\n",
       "0     31  59.92104 -58.67446  256943755  60727.886053    [89]  TIC198006444   \n",
       "\n",
       "         dr3_source_id  \n",
       "0  4682624554442312576  "
      ]
     },
     "execution_count": 9,
     "metadata": {},
     "output_type": "execute_result"
    }
   ],
   "source": [
    "spt_tess_candidates['TIC'] = spt_tess_candidates['obsid']\n",
    "spt_tess_candidates['dr3_source_id'] = spt_tess_candidates['obsid']\n",
    "\n",
    "spt_tess_candidates.at[0,'TIC'] = \"TIC198006444\"\n",
    "spt_tess_candidates.at[0,'dr3_source_id'] = \"4682624554442312576\"\n",
    "\n",
    "spt_tess_candidates"
   ]
  },
  {
   "cell_type": "code",
   "execution_count": 14,
   "metadata": {},
   "outputs": [
    {
     "data": {
      "text/plain": [
       "'2025-02-21 21:14:45.815'"
      ]
     },
     "execution_count": 14,
     "metadata": {},
     "output_type": "execute_result"
    }
   ],
   "source": [
    "Time(spt_tess_candidates.at[0,'mjd'], format='mjd', scale='tdb').utc.iso"
   ]
  },
  {
   "cell_type": "markdown",
   "metadata": {},
   "source": [
    "Save dataframe"
   ]
  },
  {
   "cell_type": "code",
   "execution_count": 15,
   "metadata": {},
   "outputs": [],
   "source": [
    "spt_tess_candidates.to_pickle('..\\data\\spt_tess_candidates_online_unverified.pkl')"
   ]
  },
  {
   "cell_type": "code",
   "execution_count": null,
   "metadata": {},
   "outputs": [],
   "source": []
  }
 ],
 "metadata": {
  "kernelspec": {
   "display_name": "SPT_Flares",
   "language": "python",
   "name": "python3"
  },
  "language_info": {
   "codemirror_mode": {
    "name": "ipython",
    "version": 3
   },
   "file_extension": ".py",
   "mimetype": "text/x-python",
   "name": "python",
   "nbconvert_exporter": "python",
   "pygments_lexer": "ipython3",
   "version": "3.9.19"
  }
 },
 "nbformat": 4,
 "nbformat_minor": 2
}
